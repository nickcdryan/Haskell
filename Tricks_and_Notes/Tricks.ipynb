{
 "cells": [
  {
   "cell_type": "code",
   "execution_count": null,
   "metadata": {
    "collapsed": true
   },
   "outputs": [],
   "source": [
    "Multiple Implementations"
   ]
  },
  {
   "cell_type": "code",
   "execution_count": null,
   "metadata": {
    "collapsed": true
   },
   "outputs": [],
   "source": [
    "compress (x:ys@(y:_))\n",
    "    | x == y    = compress ys\n",
    "    | otherwise = x : compress ys\n",
    "compress ys = ys"
   ]
  },
  {
   "cell_type": "code",
   "execution_count": null,
   "metadata": {
    "collapsed": true
   },
   "outputs": [],
   "source": [
    "replicate' :: (Num i, Ord i) => i -> a -> [a]\n",
    "replicate' n x\n",
    "  | n <= 0 = []\n",
    "  | otherwise = x:replicate' (n-1) x"
   ]
  },
  {
   "cell_type": "code",
   "execution_count": null,
   "metadata": {
    "collapsed": true
   },
   "outputs": [],
   "source": [
    "numelem :: [a] -> Int\n",
    "numelem [] = 0\n",
    "numelem (x:xs) = 1 + numelem xs"
   ]
  },
  {
   "cell_type": "code",
   "execution_count": null,
   "metadata": {
    "collapsed": true
   },
   "outputs": [],
   "source": [
    "mylength :: [a] -> Int\n",
    "mylength xs = foldl (\\acc x -> acc + 1) 0 xs  \n",
    "--or foldl (\\n _ -> n + 1) 0\n",
    "mylength = fst . last . zip [1..] -- zip arg with infinite list, take last tuple, take first element of last tuple\n",
    "myLength = sum . map (\\_->1) --map all elements to 1 and sum them"
   ]
  },
  {
   "cell_type": "code",
   "execution_count": null,
   "metadata": {
    "collapsed": true
   },
   "outputs": [],
   "source": [
    "mreverse :: [a] -> [a]\n",
    "mreverse [] = []\n",
    "mreverse (x:xs) = reverse xs ++ [x]"
   ]
  },
  {
   "cell_type": "code",
   "execution_count": null,
   "metadata": {
    "collapsed": true
   },
   "outputs": [],
   "source": [
    "--compress :: [a] -> [a]\n",
    "compress [] = []\n",
    "compress (x:ys@(y:_)) = if x == y then compress ys else x : compress ys\n",
    "compress ys = ys\n",
    "\n",
    "compress (x:ys@(y:_))\n",
    "    | x == y    = compress ys\n",
    "    | otherwise = x : compress ys\n",
    "compress ys = ys\n",
    "\n",
    "compress []     = []\n",
    "compress (x:xs) = x : (compress $ dropWhile (== x) xs)\n",
    "\n",
    "compress :: Eq a => [a] -> [a]\n",
    "compress x = foldr (\\a b -> if a == (head b) then b else a:b) [last x] x\n"
   ]
  },
  {
   "cell_type": "code",
   "execution_count": null,
   "metadata": {
    "collapsed": true
   },
   "outputs": [],
   "source": [
    "pack :: (Eq a) => [a] -> [[a]]\n",
    "pack [] = []\n",
    "pack (x:xs) = (x : takeWhile (==x) xs) : pack (dropWhile (==x) xs)\n",
    "\n",
    "--takeWhile and dropWhile function l to r until the predicate is no longer\n",
    "--met, then they cut off. \n",
    "\n",
    "--ghci> takeWhile (/=' ') \"This is a sentence\"  \n",
    "-- >> \"This\"\n",
    "\n",
    "--above pack function takes all the elements while equal to x, then appends \n",
    "--pack function to the list as soon as the xs stop equaling x. define twice\n",
    "--the point at which the first and subsequent elements are no longer the same\n",
    "\n",
    "pack :: (Eq a) => [a] -> [[a]]\n",
    "pack [] = []\n",
    "pack [x] = [[x]]\n",
    "pack (x:xs) = if x `elem` (head (pack xs))\n",
    "              then (x:(head (pack xs))):(tail (pack xs))\n",
    "              else [x]:(pack xs)\n",
    "              \n",
    "pack :: (Eq a) => [a] -> [[a]]\n",
    "pack [] = []\n",
    "pack [x] = [[x]]\n",
    "pack (x:xs) = if x `elem` (head (pack xs))\n",
    "              then (x: (head (pack xs))) : (tail (pack xs))\n",
    "              else [x] : (pack xs)"
   ]
  },
  {
   "cell_type": "code",
   "execution_count": null,
   "metadata": {
    "collapsed": true
   },
   "outputs": [],
   "source": [
    "encode [] = []\n",
    "encode (x:xs) = (length $ x : takeWhile (==x) xs, x)\n",
    "                 : encode (dropWhile (==x) xs)\n",
    "                 \n",
    "encode xs = map (\\x -> (length x,head x)) (group xs)\n",
    "\n",
    "encode xs = [(length x, head x) | x <- group xs]\n",
    "\n",
    "encode :: Eq a => [a] -> [(Int, a)]\n",
    "encode = map (\\x -> (length x, head x)) . group\n",
    "\n",
    "--Or with the help of foldr (pack is the resulting function from P09):\n",
    "encode xs = (enc . pack) xs\n",
    "\twhere enc = foldr (\\x acc -> (length x, head x) : acc) []\n",
    "    \n",
    "group :: (Eq a) => [a] -> [[a]]\n",
    "group []     = []\n",
    "group (x:xs) = (x : takeWhile (== x) xs) : group (dropWhile (== x) xs)\n",
    "\n",
    "encode :: Eq a => [a] -> [(Int, a)]\n",
    "encode = map (\\x -> (length x, head x)) . group\n",
    "    \n",
    "--turns [t,t,t,t,s,s,r,u,u] into (4,t),(2,s),(1,r),(2,u)"
   ]
  },
  {
   "cell_type": "code",
   "execution_count": null,
   "metadata": {
    "collapsed": true
   },
   "outputs": [],
   "source": [
    "data ListItem a = Single a | Multiple Int a\n",
    "    deriving (Show)\n",
    " \n",
    "encodeModified :: Eq a => [a] -> [ListItem a]\n",
    "encodeModified = map encodeHelper . encode\n",
    "    where\n",
    "      encodeHelper (1,x) = Single x\n",
    "      encodeHelper (n,x) = Multiple n x\n",
    "      \n",
    "encodeModified xs = [y | x <- group xs, let y = if (length x) == 1 \n",
    "    then Single (head x) else Multiple (length x) (head x)]\n",
    "    \n",
    "--concatMap :: (a -> [b]) -> [a] -> [b]\n",
    "--Map a function over a list and concatenate the results\n",
    "\n",
    "      \n",
    "--turns [t,t,t,t,s,s,r,u,u] into (4,t),(2,s),r,(2,u)"
   ]
  },
  {
   "cell_type": "code",
   "execution_count": null,
   "metadata": {
    "collapsed": true
   },
   "outputs": [],
   "source": [
    "duplicate [] = []\n",
    "duplicate (x:xs) = x:x:duplicate xs\n",
    "\n",
    "dupli list = concat [[x,x] | x <- list]\n",
    "\n",
    "dupli = concatMap (\\x -> [x,x])\n",
    "\n",
    "dupli = concatMap (replicate 2)\n",
    "\n",
    "dupli = foldr (\\ x xs -> x : x : xs) []"
   ]
  },
  {
   "cell_type": "code",
   "execution_count": null,
   "metadata": {
    "collapsed": true
   },
   "outputs": [],
   "source": [
    "--returns a list of lists\n",
    "replicate' [] _ = []\n",
    "replicate' xs n = replicate n (head xs) : replicate' (tail xs) n\n"
   ]
  },
  {
   "cell_type": "code",
   "execution_count": null,
   "metadata": {
    "collapsed": true
   },
   "outputs": [],
   "source": [
    "dropEvery :: [a] -> Int -> [a]\n",
    "dropEvery list count = helper list count count\n",
    "  where helper [] _ _ = []\n",
    "        helper (x:xs) count 1 = helper xs count count\n",
    "        helper (x:xs) count n = x : (helper xs count (n - 1))\n",
    "        \n",
    "dropEvery :: [a] -> Int -> [a]\n",
    "dropEvery xs n = helper xs n\n",
    "    where helper [] _ = []\n",
    "          helper (x:xs) 1 = helper xs n\n",
    "          helper (x:xs) k = x : helper xs (k-1)\n",
    "          \n",
    "dropEvery :: [a] -> Int -> [a]\n",
    "dropEvery [] _ = []\n",
    "dropEvery list count = (take (count-1) list) ++ dropEvery (drop count list) count\n",
    "\n",
    "dropEvery :: [a] -> Int -> [a]\n",
    "dropEvery xs n\n",
    "  | length xs < n = xs\n",
    "  | otherwise     = take (n-1) xs ++ dropEvery (drop n xs) n\n",
    "  \n",
    "dropEvery = flip $ \\n -> map snd . filter ((n/=) . fst) . zip (cycle [1..n])\n",
    "\n",
    "dropEvery xs n = map fst $ filter (\\(x,i) -> i `mod` n /= 0) $ zip xs [1..]\n",
    "\n",
    "dropEvery xs n = map fst $ filter ((n/=) . snd) $ zip xs (cycle [1..n])\n",
    "\n",
    "dropEvery :: Int -> [a] -> [a]\n",
    "dropEvery n xs = snd $ foldl (\\acc e -> if fst acc > 1 then (fst acc - 1, snd acc ++ [e]) else (n, snd acc)) (n, []) xs"
   ]
  },
  {
   "cell_type": "code",
   "execution_count": null,
   "metadata": {
    "collapsed": true
   },
   "outputs": [],
   "source": [
    "cracklePop = map value [1..100]\n",
    "    where value x\n",
    "            | x `mod` 15 == 0  = \"CracklePop\"\n",
    "            | x `mod` 5  == 0  = \"Pop\"\n",
    "            | x `mod` 3  == 0  = \"Crackle\"\n",
    "            | otherwise = show x"
   ]
  },
  {
   "cell_type": "code",
   "execution_count": null,
   "metadata": {
    "collapsed": true
   },
   "outputs": [],
   "source": [
    "fizzbuzz x = case (x `rem` 3, x `rem` 5) of\n",
    "  (0,0) -> \"fizzbuzz\"\n",
    "  (0,_) -> \"fizz\"\n",
    "  (_,0) -> \"buzz\"\n",
    "  _     -> show x\n",
    "  \n",
    "fizzbuzz n = take n $ zipWith (\\i fb -> head $ filter (not . null) [fb, show i]) [1..] fizzBuzzStream\n",
    "   where fizzes = cycle [\"\",\"\",\"Fiz\"]\n",
    "         buzzes = cycle [\"\",\"\",\"\",\"\",\"Buzz\"]\n",
    "         fizzBuzzStream = zipWith (++) fizzes buzzes\n",
    "         \n",
    "--https://www.reddit.com/r/haskell/comments/2cum9p\n",
    "let (m ~> str) x = str <$ guard (x `mod` m == 0)\n",
    "in map (fromMaybe . show <*> 3 ~> \"fizz\" <> 5 ~> \"buzz\")\n",
    "\n",
    "\n",
    "\n",
    "--https://web.archive.org/web/20121021233736/http://dave.fayr.am/posts/2012-10-4-finding-fizzbuzz.html\n",
    "--https://themonadreader.files.wordpress.com/2014/04/fizzbuzz.pdf"
   ]
  },
  {
   "cell_type": "code",
   "execution_count": null,
   "metadata": {
    "collapsed": true
   },
   "outputs": [],
   "source": [
    "range' x y = map (+0) [x..y]\n",
    "\n",
    "range' x y = [x..y]\n",
    "\n",
    "range' x y = [(min x y)..(max x y)]\n",
    "\n",
    "range x y = take (y-x+1) $ iterate (+1) x\n",
    "\n",
    "range = enumFromTo\n",
    "\n",
    "range l r = scanl (+) l (replicate (l - r) 1)"
   ]
  },
  {
   "cell_type": "code",
   "execution_count": null,
   "metadata": {
    "collapsed": true
   },
   "outputs": [],
   "source": [
    "slice' x y z = take (z-y+1) $ drop (y-1) x\n",
    "\n",
    "--paranoid, with guards\n",
    "slice :: [a] -> Int -> Int -> Maybe [a]\n",
    "slice [] _ _ = Just []\n",
    "slice xs k n    | k == n = Just []\n",
    "                | k > n || k > length xs || \n",
    "                  n > length xs || k < 0 || n < 0 = Nothing\n",
    "                | k == 0 = Just (take n xs)\n",
    "                | otherwise = Just (drop (k-1) $ take n xs)\n",
    " \n",
    "--list comprehension \n",
    "slice xs i k = [x | (x,j) <- zip xs [1..k], i <= j]\n",
    "\n",
    "--zip, filter, unzip\n",
    "slice :: [a] -> Int -> Int -> [a]\n",
    "slice xs a b = fst $ unzip $ filter ((>=a) . snd) $ zip xs [1..b]"
   ]
  },
  {
   "cell_type": "code",
   "execution_count": null,
   "metadata": {
    "collapsed": true
   },
   "outputs": [],
   "source": [
    "insert z xs y = fst split ++ z ++ snd split where split = splitAt y xs\n",
    "\n",
    "insertAt :: a -> [a] -> Int -> [a]\n",
    "insertAt x xs (n+1) = let (ys,zs) = split xs n in ys++x:zs\n",
    "\n",
    "insertAt :: a -> [a] -> Int -> [a]\n",
    "insertAt x ys     1 = x:ys\n",
    "insertAt x (y:ys) n = y:insertAt x ys (n-1)\n",
    "\n",
    "insertAt x xs n = take (n-1) xs ++ [x] ++ drop (n-1) xs"
   ]
  },
  {
   "cell_type": "code",
   "execution_count": null,
   "metadata": {
    "collapsed": true
   },
   "outputs": [],
   "source": [
    "not' :: Bool -> Bool\n",
    "not' True = False\n",
    "not' False = True\n",
    "\n",
    "and' True True = True\n",
    "and' _    _    = False\n",
    "\n",
    "or' False False = False\n",
    "or' _   _       = True\n",
    "\n",
    "nand' a b = not' $ and' a b \n",
    "\n",
    "nor' a b = not' $ or' a b\n",
    "\n",
    "xor' True False = True\n",
    "xor' False True = True\n",
    "xor' _     _    = False\n",
    "\n",
    "-- implies linguistic vs logical. should be thought of as conditions necessary to make something false. if we find \n",
    "-- ourselves in a world where p is true, qu must be true also. \n",
    "\n",
    "-- | p | q | p -> q |\n",
    "-- | T | T |   T    |\n",
    "-- | T | F |   F    |\n",
    "-- | F | T |   T    |\n",
    "-- | F | F |   T    |\n",
    "\n",
    "--\"if you put money in the soda machine, soda comes out.\" 3 and 4 do not provide evidence that p -> q is false.\n",
    "-- if the machine spits out sodas for free it hasn't violated the principle, and if it sits still it hasn't violated\n",
    "-- anything, and if you put money in and get soda out it hasn't violated the principle; only when you put money in\n",
    "-- and don't get anything out is the implication broken. 3 and 4 don't evidence the proposition, but they don't \n",
    "-- violate it\n",
    "\n",
    "impl' a b = (not' a) `or'` b\n",
    "\n",
    "equ' False False = True\n",
    "equ' True True   = True\n",
    "equ' _     _     = False"
   ]
  },
  {
   "cell_type": "code",
   "execution_count": null,
   "metadata": {
    "collapsed": true
   },
   "outputs": [],
   "source": [
    "gray :: Int -> [String]\n",
    "gray 0 = [\"\"]\n",
    "gray n = let xs = gray (n-1) in map ('0':) xs ++ map ('1':) (reverse xs)\n",
    "\n",
    "gray :: Int -> [String]\n",
    "gray = [\"\"]\n",
    "gray n = [ '0' : x | x <- prev ] ++ [ '1' : x | x <- prev ]\n",
    "    where prev = gray (n-1)\n",
    "    \n",
    "gray :: Integral a => a -> [String]\n",
    "gray 0 = [\"\"]\n",
    "gray n = foldr (\\s acc -> (\"0\" ++ s):(\"1\" ++ s):acc) [] $ gray (n-1)"
   ]
  },
  {
   "cell_type": "code",
   "execution_count": null,
   "metadata": {
    "collapsed": true
   },
   "outputs": [],
   "source": [
    "split, then pair using merge and mergesort wraps them all up\n",
    "\n",
    "merge xs _ = xs\n",
    "merge _ ys = ys\n",
    "merge (x:xs) (y:ys) = if x < y then x : merge xs (y:ys) else y : merge (x:xs) ys\n",
    "\n",
    "pairmerge [] = []\n",
    "pairmerge [xs] = [xs]\n",
    "pairmerge (xs:ys:xxs) = merge xs ys : pairmerge xxs\n",
    "\n",
    "mergesort\n"
   ]
  },
  {
   "cell_type": "code",
   "execution_count": null,
   "metadata": {
    "collapsed": true
   },
   "outputs": [],
   "source": [
    "mergesort :: [String] -> [String]\n",
    "mergesort = mergesort' . map wrap\n",
    "\n",
    "mergesort' :: [[String]] -> [String]\n",
    "mergesort' [] = []\n",
    "mergesort' [xs] = xs\n",
    "mergesort' xss = mergesort' (merge_pairs xss)\n",
    "\n",
    "merge_pairs :: [[String]] -> [[String]]\n",
    "merge_pairs [] = []\n",
    "merge_pairs [xs] = [xs]\n",
    "merge_pairs (xs:ys:xss) = merge xs ys : merge_pairs xss\n",
    "\n",
    "merge :: [String] -> [String] -> [String]\n",
    "merge [] ys = ys\n",
    "merge xs [] = xs\n",
    "merge (x:xs) (y:ys)\n",
    " = if x > y\n",
    "        then y : merge (x:xs)  ys\n",
    "        else x : merge  xs    (y:ys)\n",
    "\n",
    "wrap :: String -> [String]\n",
    "wrap x = [x]\n",
    "\n",
    "\n",
    "\n",
    "--simple\n",
    "\n",
    "merge [] ys = ys\n",
    "merge xs [] = xs\n",
    "merge (x:xs) (y:ys) = if x <= y\n",
    "                      then x : merge xs (y:ys)\n",
    "                      else y : merge (x:xs) ys\n",
    "\n",
    "mergesort [] = []\n",
    "mergesort [x] = [x]\n",
    "mergesort xs = let (as, bs) = splitAt (length xs `quot` 2) xs\n",
    "               in merge (mergesort as) (mergesort bs)\n",
    "\n",
    "\n",
    "\n",
    "\n",
    "\n",
    "-- bottom up approach\n",
    "-- We make a singleton list and pass it on.\n",
    "bumergesort :: Ord a => [a] -> [a]\n",
    "bumergesort = merged . mergesort' . map (:[])\n",
    "\n",
    "-- recurse until list length is 1\n",
    "merged (a : []) = a\n",
    "merged l = merged $ mergesort' l\n",
    "\n",
    "-- merge pairs of lists\n",
    "mergesort' :: Ord a => [[a]] -> [[a]]\n",
    "mergesort' (a : []) = [a]\n",
    "mergesort' (a : b : []) = merge a b : []\n",
    "mergesort' (a : b : xs) = merge a b : mergesort' xs"
   ]
  },
  {
   "cell_type": "code",
   "execution_count": null,
   "metadata": {
    "collapsed": true
   },
   "outputs": [],
   "source": [
    "fsthalf :: [a] -> [a]\n",
    "fsthalf xs = take (length xs `div` 2) xs\n",
    "\n",
    "sndhalf :: [a] -> [a]\n",
    "sndhalf xs = drop (length xs `div` 2) xs\n",
    "\n",
    "merge' :: Ord a => [a] -> [a] -> [a]\n",
    "merge' xs [] = xs\n",
    "merge' [] ys = ys\n",
    "merge' (x:xs) (y:ys) \n",
    "         | (x <= y)  = x:(merge' xs (y:ys)) \n",
    "         | otherwise = y:(merge' (x:xs) ys)\n",
    "\n",
    "mergesort'' :: Ord a => [a] -> [a]\n",
    "mergesort'' [] = []\n",
    "mergesort'' [x] = [x]\n",
    "mergesort'' xs = merge' (mergesort'' (fsthalf xs)) (mergesort'' (sndhalf xs))\n"
   ]
  },
  {
   "cell_type": "code",
   "execution_count": null,
   "metadata": {
    "collapsed": true
   },
   "outputs": [],
   "source": [
    "numelem :: [a] -> Int\n",
    "numelem [] = 0\n",
    "numelem (x:xs) = 1 + numelem xs\n",
    "\n",
    "\n",
    "fsthalf :: [a] -> [a]\n",
    "fsthalf xs = take (length xs `div` 2) xs\n",
    "\n",
    "sndhalf :: [a] -> [a]\n",
    "sndhalf xs = drop (length xs `div` 2) xs\n",
    "\n",
    "merge' :: Ord a => [a] -> [a] -> [a]\n",
    "merge' xs [] = xs\n",
    "merge' [] ys = ys\n",
    "merge' (x:xs) (y:ys) \n",
    "         | (x <= y)  = x:(merge' xs (y:ys)) \n",
    "         | otherwise = y:(merge' (x:xs) ys) && \n",
    "\n",
    "mergesort'' :: Ord a => [a] -> [a]\n",
    "mergesort'' [] = []\n",
    "mergesort'' [x] = [x]\n",
    "mergesort'' xs = merge' (mergesort'' (fsthalf xs)) (mergesort'' (sndhalf xs))"
   ]
  },
  {
   "cell_type": "code",
   "execution_count": null,
   "metadata": {
    "collapsed": true
   },
   "outputs": [],
   "source": [
    "myreverse [] = []\n",
    "myreverse (x:xs) = myreverse xs ++ [x]\n",
    "\n",
    "reverse''          :: [a] -> [a]\n",
    "reverse''         =  foldl (flip(:)) []\n",
    "\n",
    "ispal xs = if xs == myreverse xs then True else False"
   ]
  },
  {
   "cell_type": "code",
   "execution_count": null,
   "metadata": {
    "collapsed": true
   },
   "outputs": [],
   "source": [
    "mylen xs = foldr (\\x acc -> acc + 1) 0 xs"
   ]
  },
  {
   "cell_type": "code",
   "execution_count": null,
   "metadata": {
    "collapsed": true
   },
   "outputs": [],
   "source": [
    "data NestedList a = Elem a | List [NestedList a]\n",
    "\n",
    "flatten :: NestedList a -> [a]\n",
    "flatten (Elem x) = [x]\n",
    "flatten (List x) = concatMap flatten x\n",
    "\n",
    "-- flatten (List [Elem 1, List [Elem 2, List [Elem 3, Elem 4], Elem 5]])\n",
    "\n",
    "compress (x:ys@(y:_)) \n",
    "    | x == y    = compress ys\n",
    "    | otherwise = x : compress ys\n",
    "compress ys = compress ys\n",
    "\n",
    "\n",
    "compress'' x = foldr (\\a acc -> if a == (head acc) then acc else a:acc ) [last x] x\n",
    "\n",
    "compress''' [] = []\n",
    "compress''' (x:xs) = x : (compress''' $ dropWhile (==x) xs)\n",
    "\n",
    "import Data.List\n",
    "\n",
    "compress' :: Eq a => [a] -> [a]\n",
    "compress' = map head . group"
   ]
  },
  {
   "cell_type": "code",
   "execution_count": null,
   "metadata": {
    "collapsed": true
   },
   "outputs": [],
   "source": [
    "encode x = map (\\x -> (length x, head x)) (group x)"
   ]
  },
  {
   "cell_type": "code",
   "execution_count": null,
   "metadata": {
    "collapsed": true
   },
   "outputs": [],
   "source": [
    "count   :: Eq a => a -> [a] -> Int\n",
    "count x =  length . filter (==x)"
   ]
  },
  {
   "cell_type": "code",
   "execution_count": null,
   "metadata": {
    "collapsed": true
   },
   "outputs": [],
   "source": [
    "-- accumulator example\n",
    "\n",
    "sumTo20 :: [Int] -> Int\n",
    "sumTo20 nums = go 0 nums   -- the acc. starts at 0\n",
    "  where go :: Int -> [Int] -> Int\n",
    "        go acc [] = acc   -- empty list: return the accumulated sum\n",
    "        go acc (x:xs)\n",
    "         | acc >= 20 = acc\n",
    "         | otherwise = go (acc + x) xs"
   ]
  },
  {
   "cell_type": "code",
   "execution_count": null,
   "metadata": {
    "collapsed": true
   },
   "outputs": [],
   "source": [
    "-- Given a char* string, write a function that returns the index of the last occurrence of the most \n",
    "-- frequently occurring character.\n",
    "\n",
    "-- deletes the last occurence of the most frequently occurring character\n",
    "\n",
    "import Data.List\n",
    "import Control.Arrow\n",
    "import Data.Function\n",
    "\n",
    "mostCommon list = fst . maximumBy (compare `on` snd) $ elemCount\n",
    "      where elemCount = map (head &&& length) . group . sort $ list\n",
    "      \n",
    "deleteFirst _ [] = [] \n",
    "deleteFirst a (b:bc) | a == b    = bc \n",
    "                     | otherwise = b : deleteFirst a bc\n",
    "\n",
    "finally xs = reverse $ deleteFirst a $ reverse xs where a = mostCommon xs"
   ]
  },
  {
   "cell_type": "code",
   "execution_count": null,
   "metadata": {
    "collapsed": true
   },
   "outputs": [],
   "source": [
    "-- foldl and foldr maps\n",
    "map' :: (a -> b) -> [a] -> [b]\n",
    "map' f = foldr (\\acc xs -> f acc : xs) []\n",
    "\n",
    "map'' :: (a -> b) -> [a] -> [b]\n",
    "map'' f = foldl (\\acc xs -> acc ++ [f xs]) []"
   ]
  },
  {
   "cell_type": "code",
   "execution_count": null,
   "metadata": {
    "collapsed": true
   },
   "outputs": [],
   "source": [
    "-- list of ints to digit\n",
    "dec2int' :: [Integer] -> Integer\n",
    "dec2int' = foldl (\\ acc xs -> acc * 10 +  xs) 0"
   ]
  },
  {
   "cell_type": "code",
   "execution_count": null,
   "metadata": {
    "collapsed": true
   },
   "outputs": [],
   "source": [
    "-- turns NN integer into binary\n",
    "type Bit = Int\n",
    "int2bin :: Int -> [Bit]\n",
    "int2bin 0 = []\n",
    "int2bin n = n `mod` 2 : int2bin (n `div` 2)\n",
    "\n",
    "\n",
    "unfold :: (b -> Bool) -> (b -> a) -> (b -> b) -> b -> [a]\n",
    "unfold p h t x \n",
    "    | p x = []\n",
    "    | otherwise = h x : unfold p h t (t x)\n",
    "    \n",
    "int2bin' = unfold (== 0) (`mod` 2) (`div` 2)"
   ]
  },
  {
   "cell_type": "code",
   "execution_count": null,
   "metadata": {
    "collapsed": true
   },
   "outputs": [],
   "source": [
    "data Expr = Val Int | Div Expr Expr\n",
    "\n",
    "eval           :: Expr -> Int\n",
    "eval (Val n)   =  n\n",
    "eval (Div x y) =  eval x `div` eval y\n",
    "\n",
    "   safediv     :: Int -> Int -> Maybe Int\n",
    "   safediv n m =  if m == 0 then Nothing else Just (n `div` m)\n",
    "   \n",
    "   eval           :: Expr -> Maybe Int\n",
    "   eval (Val n)   =  Just n\n",
    "   eval (Div x y) =  case eval x of\n",
    "\t\t        Nothing -> Nothing\n",
    "                Just n  -> case eval y of\n",
    "\t\t\t\t      Nothing -> Nothing\n",
    "\t\t\t\t      Just m  -> safediv n m\n",
    "                      \n",
    "                      \n",
    "   seqn                    :: Maybe a -> Maybe b -> Maybe (a,b)\n",
    "   seqn Nothing   _        =  Nothing\n",
    "   seqn _         Nothing  =  Nothing\n",
    "   seqn (Just x)  (Just y) =  Just (x,y)\n",
    "   \n",
    "   \n",
    "   eval (Val n)   = Just n\n",
    "   eval (Div x y) = apply f (eval x `seqn` eval y)\n",
    "                    where f (n,m) = safediv n m\n",
    "                    \n",
    "   apply            :: (a -> Maybe b) -> Maybe a -> Maybe b\n",
    "   apply f Nothing  =  Nothing\n",
    "   apply f (Just x) =  f x\n",
    "   \n",
    "      eval (Op x y z) = apply f (eval x `seqn` (eval y `seqn` eval z))\n",
    "                     where f (a,(b,c)) = ...\n",
    "                     \n",
    "   (>>=)   :: Maybe a -> (a -> Maybe b) -> Maybe b\n",
    "   m >>= f =  case m of\n",
    "                 Nothing -> Nothing\n",
    "                 Just x  -> f x"
   ]
  },
  {
   "cell_type": "code",
   "execution_count": null,
   "metadata": {
    "collapsed": true
   },
   "outputs": [],
   "source": [
    "data Expr = Val Int | Div Expr Expr\n",
    "\n",
    "--eval           :: Expr -> Int\n",
    "--eval (Val n)   =  n\n",
    "--eval (Div x y) =  eval x `div` eval y\n",
    "\n",
    "data Maybe a = Nothing | Just a\n",
    "\n",
    "\n",
    "safediv     :: Int -> Int -> Maybe Int\n",
    "safediv n m =  if m == 0 then Nothing else Just (n `div` m)\n",
    "\n",
    "eval           :: Expr -> Maybe Int\n",
    "eval (Val n)   =  Just n\n",
    "eval (Div x y) =  case eval x of\n",
    "            Nothing -> Nothing\n",
    "            Just n  -> case eval y of\n",
    "                  Nothing -> Nothing\n",
    "                  Just m  -> safediv n m"
   ]
  },
  {
   "cell_type": "code",
   "execution_count": null,
   "metadata": {
    "collapsed": true
   },
   "outputs": [],
   "source": [
    "-- CIS 194 HW 4\n",
    "\n",
    "fun1 :: [Integer] -> Integer\n",
    "fun1 [] = 1\n",
    "fun1 (x:xs)\n",
    "    | even x = (x - 2) * fun1 xs\n",
    "    | otherwise = fun1 xs\n",
    "\n",
    "fun1' :: [Integer] -> Integer\n",
    "fun1' = product . map (\\x -> (x-2)) . filter (even)\n",
    "\n",
    "fun2 :: Integer -> Integer\n",
    "fun2 1 = 0\n",
    "fun2 n | even n = n + fun2 (n `div` 2)\n",
    "       | otherwise = fun2 (3 * n + 1)\n",
    "\n",
    "--fun2' :: Integer -> Integer\n",
    "--fun2' = sum . map (\\x -> x + (x `div` 2)) . filter (even)\n",
    "\n",
    "fun2' :: Integer -> Integer\n",
    "fun2' = sum\n",
    "      . filter even\n",
    "      . takeWhile (/= 1)\n",
    "      . iterate (\\n -> if even n then n `div` 2 else 3*n+1)\n",
    "\n",
    "Tree a = Leaf | Node Integer (Tree a) a (Tree a)\n",
    "        deriving (Show, Eq)\n",
    "        \n",
    "foldTree :: [a] -> Tree a\n",
    "foldTree [] = []\n",
    "foldTree x = Leaf\n",
    "foldTree xs = foldr Node foldTree \n",
    "\n",
    "\n",
    "\n",
    "  \n",
    "  \n",
    "map' f xs = foldr (\\x acc -> f x : acc) [] xs "
   ]
  },
  {
   "cell_type": "code",
   "execution_count": null,
   "metadata": {
    "collapsed": true
   },
   "outputs": [],
   "source": [
    "map' :: (a -> b) -> [a] -> [b]\n",
    "map' f = foldr (\\x ys -> f x : ys) []\n",
    "\n",
    "xor :: [Bool] -> Bool\n",
    "xor = foldr xor2 False\n",
    "\n",
    "xor2 :: Bool -> Bool -> Bool\n",
    "xor2 a b = (a || b) && not (a && b)"
   ]
  },
  {
   "cell_type": "code",
   "execution_count": null,
   "metadata": {
    "collapsed": true
   },
   "outputs": [],
   "source": [
    "-- works\n",
    "\n",
    "sieveSundaram :: Integer -> [Integer]\n",
    "sieveSundaram n = \n",
    "    let exclude = [ i+j+2*i*j | j <- [1..n], i <- [1..j], i+j+2*i*j <= n ] in\n",
    "    [(2*i)+1 | i <- [1..n], i `notElem` exclude]\n",
    "    \n",
    "-- didn't work\n",
    "\n",
    "validPairs n = [ (i,j) | j <- [1..n], i <- [1..j] ]\n",
    "combines = map (\\(i,j) -> i + j + (2*i*j))\n",
    "badList = combines . validPairs\n",
    "goodNums n = filter (>= n) (badList n)\n",
    "\n",
    "sieveSundaram' :: Integer -> [Integer]\n",
    "sieveSundaram' n = map (\\x -> (x * 2) + 1) (goodNums n)\n"
   ]
  },
  {
   "cell_type": "code",
   "execution_count": null,
   "metadata": {
    "collapsed": true
   },
   "outputs": [],
   "source": [
    "data ExprT = Lit Integer | Add ExprT ExprT | Mul ExprT ExprT\n",
    "    deriving (Show, Eq)\n",
    "\n",
    "\n",
    "eval :: ExprT -> Integer\n",
    "eval (Lit a) = a\n",
    "eval (Add a b) = (eval a) + (eval b)\n",
    "eval (Mul a b) = (eval a) * (eval b)\n",
    "\n",
    "eval (Add (Lit 4) (Mul (Lit 5) (Lit 8)))"
   ]
  },
  {
   "cell_type": "code",
   "execution_count": null,
   "metadata": {
    "collapsed": true
   },
   "outputs": [],
   "source": [
    "fib :: Integer -> Integer\n",
    "fib 0 = 0\n",
    "fib 1 = 1\n",
    "fib n = fib (n-1) + fib (n-2)\n",
    "\n",
    "fibs1 :: [Integer]\n",
    "fibs1 = map fib [0..]\n",
    "\n",
    "fibs2 :: [Integer]\n",
    "fibs2 = fibgen 0 1 where\n",
    "    fibgen a b = a : fibgen b (a + b)\n",
    "\n",
    "data Stream a = Cons a (Stream a)\n",
    "\n",
    "streamToList :: Stream a -> [a]\n",
    "streamToList x = take -- to finish"
   ]
  },
  {
   "cell_type": "code",
   "execution_count": null,
   "metadata": {
    "collapsed": true
   },
   "outputs": [],
   "source": [
    "data Either a b = Left a | Right b\n",
    "instance Functor (Either e) where\n",
    "    fmap _ (Left e)  = Left e\n",
    "    fmap g (Right a) = Right (g a)\n",
    "    \n",
    "instance Functor (e (->)) where\n",
    "    fmap = (.)\n",
    "    \n",
    "data Pair a = Pair a a\n",
    "\n",
    "instance Functor (Pair a) where\n",
    "    fmap g (Pair a b) = Pair (g a) (g b)\n",
    "    \n",
    "data ITree a = Leaf (Int -> a) \n",
    "             | Node [ITree a]\n",
    "             \n",
    "instance Eq a => Eq (ITree a) where\n",
    "    Leaf g == Leaf h = g 0 == h 0\n",
    "    Node xs == Node ys = and (zipWith (==) xs ys)\n",
    "    Leaf _ == Node _ = False\n",
    "    Node _ == Leaf _ = False\n",
    "\n",
    "instance MyFunctor ITree where\n",
    "    fmap' g (Leaf f)   = Leaf (g . f)\n",
    "    fmap' g (Node its) = Node $ map (fmap' g) its\n",
    "    \n"
   ]
  }
 ],
 "metadata": {
  "kernelspec": {
   "display_name": "Haskell",
   "language": "haskell",
   "name": "haskell"
  },
  "language_info": {
   "codemirror_mode": "ihaskell",
   "file_extension": ".hs",
   "name": "haskell",
   "version": "7.10.3"
  }
 },
 "nbformat": 4,
 "nbformat_minor": 0
}
