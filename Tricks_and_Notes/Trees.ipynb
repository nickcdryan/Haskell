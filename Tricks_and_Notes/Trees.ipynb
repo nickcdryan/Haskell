{
 "cells": [
  {
   "cell_type": "code",
   "execution_count": null,
   "metadata": {
    "collapsed": true
   },
   "outputs": [],
   "source": [
    "-- http://courses.cms.caltech.edu/cs11/material/haskell/\n",
    "-- Lab 2\n",
    "\n",
    "-- Tree data structure.  Note that this is different from the Tree\n",
    "-- structure used in the lecture.\n",
    "data Tree a = Leaf | Node a (Tree a) (Tree a)\n",
    "              deriving Show\n",
    "\n",
    "-- Sample tree (for testing).\n",
    "sampleTree :: Tree Integer\n",
    "sampleTree = Node 1 (Node 2 (Node 3 Leaf Leaf) Leaf) (Node 4 Leaf Leaf)\n",
    "\n",
    "-- Count the number of leaves in a Tree.\n",
    "countLeaves :: Tree a -> Integer\n",
    "countLeaves Leaf = 1\n",
    "countLeaves (Node a left right) = (countLeaves left) + (countLeaves right)\n",
    "\n",
    "-- Mapping over a tree.\n",
    "--mapTree :: (a -> b) -> Tree a -> Tree b\n",
    "--mapTree f Leaf = f Leaf\n",
    "--mapTree f (Node a left right) = (mapTree f left) (mapTree f right)\n",
    "\n",
    "-- mapTree :: (a -> b) -> Tree a -> Tree b\n",
    "-- mapTree f (Leaf a)= Leaf (f a) \n",
    "-- mapTree f (Node a left right ) = Node (mapTree f left) (mapTree f right)\n",
    "\n",
    "--  fmap f (Node l r) = Node (fmap f l) (fmap f r)\n",
    "--  fmap f (Leaf x) = Leaf (f x)\n",
    "\n",
    "mapTree :: (a -> b) -> Tree a -> Tree b\n",
    "mapTree f (Node x left right) = Node (f x) (mapTree f left) (mapTree f right)\n",
    "mapTree _ Leaf = Leaf\n",
    "\n",
    "-- Counting characters in a String.\n",
    "countChars :: String -> Integer\n",
    "countChars = toInteger . length\n",
    "\n",
    "-- Sample tree of strings.\n",
    "treeOfStrings :: Tree String\n",
    "treeOfStrings = Node \"foo\" \n",
    "                (Node \"bar\" (Node \"baz\" Leaf Leaf) Leaf) \n",
    "                (Node \"bam\" Leaf Leaf)\n",
    "\n",
    "treeOfNums :: Tree Integer\n",
    "treeOfNums = mapTree countChars treeOfStrings\n",
    "\n",
    "\n",
    "-- Fold on a tree.\n",
    "foldTree :: (a -> a -> a) -> a -> Tree a -> a\n",
    "foldTree f x0 (Node x left right) = (foldTree f x0 left) `f` y `f` (foldTree f x0 right)\n",
    "foldTree _ x0 Leaf = x0\n",
    "\n",
    "-- Sample use of foldTree: count the characters in a tree of Strings.\n",
    "charsInTree :: Integer\n",
    "charsInTree = foldTree (+) 0 (mapTree countChars treeOfStrings)\n"
   ]
  }
 ],
 "metadata": {
  "kernelspec": {
   "display_name": "Haskell",
   "language": "haskell",
   "name": "haskell"
  },
  "language_info": {
   "codemirror_mode": "ihaskell",
   "file_extension": ".hs",
   "name": "haskell",
   "version": "7.10.3"
  }
 },
 "nbformat": 4,
 "nbformat_minor": 0
}
