{
 "cells": [
  {
   "cell_type": "code",
   "execution_count": null,
   "metadata": {
    "collapsed": true
   },
   "outputs": [],
   "source": [
    "-- Caesar cipher\n",
    "\n",
    "import Data.Char\n",
    "\n",
    "let2int :: Char -> Int\n",
    "let2int c \n",
    "    | isLower c = ord c - ord 'a'\n",
    "    | isUpper c = ord c - ord 'A'\n",
    "\n",
    "int2let :: Int -> Char\n",
    "int2let n = chr (ord 'a' + n)\n",
    "\n",
    "shift :: Int -> Char -> Char\n",
    "shift n c\n",
    "    | isLower c = int2let ((let2int c + n) `mod` 26)\n",
    "    | isUpper c = int2let (((let2int c + n) `mod` 26) - 32)\n",
    "    | otherwise = c\n",
    "    \n",
    "encode :: Int -> String -> String\n",
    "encode n xs = [shift n x | x <- xs ]"
   ]
  }
 ],
 "metadata": {
  "kernelspec": {
   "display_name": "Haskell",
   "language": "haskell",
   "name": "haskell"
  },
  "language_info": {
   "codemirror_mode": "ihaskell",
   "file_extension": ".hs",
   "name": "haskell",
   "version": "7.10.3"
  }
 },
 "nbformat": 4,
 "nbformat_minor": 0
}
