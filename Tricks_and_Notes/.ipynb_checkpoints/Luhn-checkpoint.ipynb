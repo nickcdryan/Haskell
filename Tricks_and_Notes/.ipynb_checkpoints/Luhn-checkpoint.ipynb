{
 "cells": [
  {
   "cell_type": "code",
   "execution_count": null,
   "metadata": {
    "collapsed": true
   },
   "outputs": [],
   "source": [
    "-- Luhn checksum algo\n",
    "\n",
    "lastDigit :: Integer -> Integer\n",
    "lastDigit x = x `mod` 10\n",
    "\n",
    "dropLastDigit :: Integer -> Integer\n",
    "dropLastDigit x = x `div` 10\n",
    "\n",
    "toRevDigits :: Integer -> [Integer]\n",
    "toRevDigits 0 = []\n",
    "toRevDigits x = lastDigit x : toRevDigits (dropLastDigit x)\n",
    "\n",
    "toDigits :: Integer -> [Integer]\n",
    "toDigits 0 = []\n",
    "toDigits x = toDigits (dropLastDigit x) ++ [lastDigit x]\n",
    "\n",
    "doubleEveryOther :: [Integer] -> [Integer]\n",
    "doubleEveryOther [] = []\n",
    "doubleEveryOther [x] = [x]\n",
    "doubleEveryOther (x:y:ys) = x : (2*y) : doubleEveryOther ys\n",
    "\n",
    "sumDigits :: [Integer] -> Integer\n",
    "sumDigits [] = 0\n",
    "sumDigits (x:xs) = lastDigit x + dropLastDigit x + sumDigits xs\n",
    "\n",
    "luhn :: Integer -> Bool\n",
    "luhn x = if (sumDigits $ doubleEveryOther $ toRevDigits x) `mod` 10 == 0 \n",
    "    then True \n",
    "    else False"
   ]
  }
 ],
 "metadata": {
  "kernelspec": {
   "display_name": "Haskell",
   "language": "haskell",
   "name": "haskell"
  },
  "language_info": {
   "codemirror_mode": "ihaskell",
   "file_extension": ".hs",
   "name": "haskell",
   "version": "7.10.3"
  }
 },
 "nbformat": 4,
 "nbformat_minor": 0
}
